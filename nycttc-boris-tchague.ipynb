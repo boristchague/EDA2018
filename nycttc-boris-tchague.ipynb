{
 "cells": [
  {
   "cell_type": "markdown",
   "metadata": {
    "_uuid": "151e3239dc9090a5ab589060974610993a5aed1f"
   },
   "source": [
    "#                                       ** PREDICTION NEWYORK TAXI TRIP DURATIONS**"
   ]
  },
  {
   "cell_type": "markdown",
   "metadata": {
    "_uuid": "ffcdfac7a48a807d62932aee5d8606cec3a7d026"
   },
   "source": [
    "\n",
    "### **Headings**\n",
    "* I.   Importing modules \n",
    "* II.  Loading files \n",
    "* II.  Data processing\n",
    "* IV. Exporatory data analysis \n",
    "* V.  Algorithme \n",
    "* VI. submission"
   ]
  },
  {
   "cell_type": "markdown",
   "metadata": {
    "_uuid": "042de5146776ebf24319a1c2edf2b5009bcc7845"
   },
   "source": [
    "#  **I. Importing modules**"
   ]
  },
  {
   "cell_type": "code",
   "execution_count": 1,
   "metadata": {
    "_uuid": "d9a7253d315fb6a97fdb2f189b383d240bed7187"
   },
   "outputs": [],
   "source": [
    "import os \n",
    "\n",
    "import numpy as np\n",
    "import pandas as pd\n",
    "import seaborn as sns\n",
    "import matplotlib.pyplot as plt\n",
    "import sklearn\n",
    "import matplotlib.mlab as mlab\n",
    "import warnings\n",
    "warnings.filterwarnings(\"ignore\")\n",
    "\n",
    "\n",
    "from sklearn import linear_model\n",
    "from sklearn.metrics import mean_squared_error, mean_squared_error as MSE\n",
    "from sklearn.linear_model import LinearRegression, Lasso\n",
    "from sklearn.model_selection import cross_val_score, cross_val_predict\n",
    "\n",
    "\n",
    "\n",
    "# Settings\n",
    "import matplotlib\n",
    "matplotlib.style.use('fivethirtyeight')\n",
    "plt.rcParams['figure.figsize'] = (8.5, 5)\n",
    "plt.rcParams[\"patch.force_edgecolor\"] = True\n",
    "pd.set_option('display.float_format', lambda x: '%.3f' % x)\n",
    "sns.mpl.rc(\"figure\", figsize=(8.5,5))\n",
    "\n",
    "\n",
    "%matplotlib inline"
   ]
  },
  {
   "cell_type": "code",
   "execution_count": 2,
   "metadata": {
    "_uuid": "4b4c99242a47ee164968c4c384e62f47f0316a6e"
   },
   "outputs": [],
   "source": []
  },
  {
   "cell_type": "markdown",
   "metadata": {
    "_uuid": "3e450e611494e07b37af6185b8f639a1abf3c10d"
   },
   "source": [
    "# **II. Loading files**"
   ]
  },
  {
   "cell_type": "code",
   "execution_count": 2,
   "metadata": {
    "_uuid": "b38c7cd4830598660e74f723e3efd62e55325c15",
    "scrolled": true
   },
   "outputs": [
    {
     "data": {
      "text/html": [
       "<div>\n",
       "<style scoped>\n",
       "    .dataframe tbody tr th:only-of-type {\n",
       "        vertical-align: middle;\n",
       "    }\n",
       "\n",
       "    .dataframe tbody tr th {\n",
       "        vertical-align: top;\n",
       "    }\n",
       "\n",
       "    .dataframe thead th {\n",
       "        text-align: right;\n",
       "    }\n",
       "</style>\n",
       "<table border=\"1\" class=\"dataframe\">\n",
       "  <thead>\n",
       "    <tr style=\"text-align: right;\">\n",
       "      <th></th>\n",
       "      <th>id</th>\n",
       "      <th>vendor_id</th>\n",
       "      <th>pickup_datetime</th>\n",
       "      <th>dropoff_datetime</th>\n",
       "      <th>passenger_count</th>\n",
       "      <th>pickup_longitude</th>\n",
       "      <th>pickup_latitude</th>\n",
       "      <th>dropoff_longitude</th>\n",
       "      <th>dropoff_latitude</th>\n",
       "      <th>store_and_fwd_flag</th>\n",
       "      <th>trip_duration</th>\n",
       "    </tr>\n",
       "  </thead>\n",
       "  <tbody>\n",
       "    <tr>\n",
       "      <th>0</th>\n",
       "      <td>id2875421</td>\n",
       "      <td>2</td>\n",
       "      <td>2016-03-14 17:24:55</td>\n",
       "      <td>2016-03-14 17:32:30</td>\n",
       "      <td>1</td>\n",
       "      <td>-73.982</td>\n",
       "      <td>40.768</td>\n",
       "      <td>-73.965</td>\n",
       "      <td>40.766</td>\n",
       "      <td>N</td>\n",
       "      <td>455</td>\n",
       "    </tr>\n",
       "    <tr>\n",
       "      <th>1</th>\n",
       "      <td>id2377394</td>\n",
       "      <td>1</td>\n",
       "      <td>2016-06-12 00:43:35</td>\n",
       "      <td>2016-06-12 00:54:38</td>\n",
       "      <td>1</td>\n",
       "      <td>-73.980</td>\n",
       "      <td>40.739</td>\n",
       "      <td>-73.999</td>\n",
       "      <td>40.731</td>\n",
       "      <td>N</td>\n",
       "      <td>663</td>\n",
       "    </tr>\n",
       "  </tbody>\n",
       "</table>\n",
       "</div>"
      ],
      "text/plain": [
       "          id  vendor_id      ...      store_and_fwd_flag trip_duration\n",
       "0  id2875421          2      ...                       N           455\n",
       "1  id2377394          1      ...                       N           663\n",
       "\n",
       "[2 rows x 11 columns]"
      ]
     },
     "execution_count": 2,
     "metadata": {},
     "output_type": "execute_result"
    }
   ],
   "source": [
    "import os\n",
    "\n",
    "train = pd.read_csv ('../input/train.csv')\n",
    "test = pd.read_csv ('../input/test.csv')\n",
    "\n",
    "train.head(2)"
   ]
  },
  {
   "cell_type": "markdown",
   "metadata": {
    "_uuid": "91c89df0a11d676b636fd90c7ce19e390a229e5d"
   },
   "source": [
    "# **III. Data processing**"
   ]
  },
  {
   "cell_type": "markdown",
   "metadata": {
    "_uuid": "d6f4b2eb47fddb0cca8ba0945cfbb53f10462bb5"
   },
   "source": [
    "##  Pre-Processing Data\n",
    "After loading our data, we need to examine the structure of data to out find out what are possible missing values and outiliers."
   ]
  },
  {
   "cell_type": "markdown",
   "metadata": {
    "_uuid": "87d933fba9e492989ccc05a36366447b736622d6"
   },
   "source": [
    "### 1. Pre-processing Data : Missing values "
   ]
  },
  {
   "cell_type": "code",
   "execution_count": 3,
   "metadata": {
    "_uuid": "83812b3dabfb21e095577338a9f16ec96b4ae0f9"
   },
   "outputs": [
    {
     "name": "stdout",
     "output_type": "stream",
     "text": [
      "(1458644, 11)\n"
     ]
    }
   ],
   "source": [
    "print(train.shape);\n"
   ]
  },
  {
   "cell_type": "code",
   "execution_count": 4,
   "metadata": {
    "_uuid": "e3245059cd9071056a465912a40ea2894c1fcd9f"
   },
   "outputs": [
    {
     "name": "stdout",
     "output_type": "stream",
     "text": [
      "<class 'pandas.core.frame.DataFrame'>\n",
      "RangeIndex: 1458644 entries, 0 to 1458643\n",
      "Data columns (total 11 columns):\n",
      "id                    1458644 non-null object\n",
      "vendor_id             1458644 non-null int64\n",
      "pickup_datetime       1458644 non-null object\n",
      "dropoff_datetime      1458644 non-null object\n",
      "passenger_count       1458644 non-null int64\n",
      "pickup_longitude      1458644 non-null float64\n",
      "pickup_latitude       1458644 non-null float64\n",
      "dropoff_longitude     1458644 non-null float64\n",
      "dropoff_latitude      1458644 non-null float64\n",
      "store_and_fwd_flag    1458644 non-null object\n",
      "trip_duration         1458644 non-null int64\n",
      "dtypes: float64(4), int64(3), object(4)\n",
      "memory usage: 122.4+ MB\n"
     ]
    }
   ],
   "source": [
    "train.info()"
   ]
  },
  {
   "cell_type": "markdown",
   "metadata": {
    "_uuid": "83839b096dd9cdd83b4d464b2d98e8132bb41831"
   },
   "source": [
    "The pickup and dropoff timestamp variables are being treated as non-null objects. These features should be converted to date objects to allow for easier feature engineering later on in Data type pre-processing section (section **III.a.3**)"
   ]
  },
  {
   "cell_type": "code",
   "execution_count": 5,
   "metadata": {
    "_uuid": "69d704ed300858db4d881cc41bd74fe386662582"
   },
   "outputs": [
    {
     "data": {
      "text/plain": [
       "id                    0\n",
       "vendor_id             0\n",
       "pickup_datetime       0\n",
       "dropoff_datetime      0\n",
       "passenger_count       0\n",
       "pickup_longitude      0\n",
       "pickup_latitude       0\n",
       "dropoff_longitude     0\n",
       "dropoff_latitude      0\n",
       "store_and_fwd_flag    0\n",
       "trip_duration         0\n",
       "dtype: int64"
      ]
     },
     "execution_count": 5,
     "metadata": {},
     "output_type": "execute_result"
    }
   ],
   "source": [
    "#### we have no missing value in our data set. \n",
    "train.isna().sum()"
   ]
  },
  {
   "cell_type": "markdown",
   "metadata": {
    "_uuid": "f4eacf14a37bcdf6c1a50686731cf855cf31610e"
   },
   "source": [
    "### 2. Pre-processing Data : Outliers"
   ]
  },
  {
   "cell_type": "code",
   "execution_count": 6,
   "metadata": {
    "_uuid": "087fd7ca88d89e1ee9d257cae897bc1247ec8fc5"
   },
   "outputs": [
    {
     "data": {
      "text/html": [
       "<div>\n",
       "<style scoped>\n",
       "    .dataframe tbody tr th:only-of-type {\n",
       "        vertical-align: middle;\n",
       "    }\n",
       "\n",
       "    .dataframe tbody tr th {\n",
       "        vertical-align: top;\n",
       "    }\n",
       "\n",
       "    .dataframe thead th {\n",
       "        text-align: right;\n",
       "    }\n",
       "</style>\n",
       "<table border=\"1\" class=\"dataframe\">\n",
       "  <thead>\n",
       "    <tr style=\"text-align: right;\">\n",
       "      <th></th>\n",
       "      <th>count</th>\n",
       "      <th>mean</th>\n",
       "      <th>std</th>\n",
       "      <th>min</th>\n",
       "      <th>25%</th>\n",
       "      <th>50%</th>\n",
       "      <th>75%</th>\n",
       "      <th>max</th>\n",
       "    </tr>\n",
       "  </thead>\n",
       "  <tbody>\n",
       "    <tr>\n",
       "      <th>vendor_id</th>\n",
       "      <td>1458644.000</td>\n",
       "      <td>1.535</td>\n",
       "      <td>0.499</td>\n",
       "      <td>1.000</td>\n",
       "      <td>1.000</td>\n",
       "      <td>2.000</td>\n",
       "      <td>2.000</td>\n",
       "      <td>2.000</td>\n",
       "    </tr>\n",
       "    <tr>\n",
       "      <th>passenger_count</th>\n",
       "      <td>1458644.000</td>\n",
       "      <td>1.665</td>\n",
       "      <td>1.314</td>\n",
       "      <td>0.000</td>\n",
       "      <td>1.000</td>\n",
       "      <td>1.000</td>\n",
       "      <td>2.000</td>\n",
       "      <td>9.000</td>\n",
       "    </tr>\n",
       "    <tr>\n",
       "      <th>pickup_longitude</th>\n",
       "      <td>1458644.000</td>\n",
       "      <td>-73.973</td>\n",
       "      <td>0.071</td>\n",
       "      <td>-121.933</td>\n",
       "      <td>-73.992</td>\n",
       "      <td>-73.982</td>\n",
       "      <td>-73.967</td>\n",
       "      <td>-61.336</td>\n",
       "    </tr>\n",
       "    <tr>\n",
       "      <th>pickup_latitude</th>\n",
       "      <td>1458644.000</td>\n",
       "      <td>40.751</td>\n",
       "      <td>0.033</td>\n",
       "      <td>34.360</td>\n",
       "      <td>40.737</td>\n",
       "      <td>40.754</td>\n",
       "      <td>40.768</td>\n",
       "      <td>51.881</td>\n",
       "    </tr>\n",
       "    <tr>\n",
       "      <th>dropoff_longitude</th>\n",
       "      <td>1458644.000</td>\n",
       "      <td>-73.973</td>\n",
       "      <td>0.071</td>\n",
       "      <td>-121.933</td>\n",
       "      <td>-73.991</td>\n",
       "      <td>-73.980</td>\n",
       "      <td>-73.963</td>\n",
       "      <td>-61.336</td>\n",
       "    </tr>\n",
       "    <tr>\n",
       "      <th>dropoff_latitude</th>\n",
       "      <td>1458644.000</td>\n",
       "      <td>40.752</td>\n",
       "      <td>0.036</td>\n",
       "      <td>32.181</td>\n",
       "      <td>40.736</td>\n",
       "      <td>40.755</td>\n",
       "      <td>40.770</td>\n",
       "      <td>43.921</td>\n",
       "    </tr>\n",
       "    <tr>\n",
       "      <th>trip_duration</th>\n",
       "      <td>1458644.000</td>\n",
       "      <td>959.492</td>\n",
       "      <td>5237.432</td>\n",
       "      <td>1.000</td>\n",
       "      <td>397.000</td>\n",
       "      <td>662.000</td>\n",
       "      <td>1075.000</td>\n",
       "      <td>3526282.000</td>\n",
       "    </tr>\n",
       "  </tbody>\n",
       "</table>\n",
       "</div>"
      ],
      "text/plain": [
       "                        count    mean     ...          75%         max\n",
       "vendor_id         1458644.000   1.535     ...        2.000       2.000\n",
       "passenger_count   1458644.000   1.665     ...        2.000       9.000\n",
       "pickup_longitude  1458644.000 -73.973     ...      -73.967     -61.336\n",
       "pickup_latitude   1458644.000  40.751     ...       40.768      51.881\n",
       "dropoff_longitude 1458644.000 -73.973     ...      -73.963     -61.336\n",
       "dropoff_latitude  1458644.000  40.752     ...       40.770      43.921\n",
       "trip_duration     1458644.000 959.492     ...     1075.000 3526282.000\n",
       "\n",
       "[7 rows x 8 columns]"
      ]
     },
     "execution_count": 6,
     "metadata": {},
     "output_type": "execute_result"
    }
   ],
   "source": [
    "train.describe().transpose()"
   ]
  },
  {
   "cell_type": "markdown",
   "metadata": {
    "_uuid": "9dad3238e7a89b0288a8eb29c55c8a3f74b9e471"
   },
   "source": [
    "**Passenger_count** : Rationaly we would consider a trip with at least a passenger, so values with zero shall be deleted. LIkely trips with number of passengers above 5 shall be deleted because law provide that a a maximum number of passenger should not exced 5 persons, though in some few exception, passengers under the age of 7 who may sit on an adult's lap. However it unlikely that a full 5 person taxi cab would have that many children under the age of 7.   \n",
    "\n",
    "**Longitude and Latitude Coordinates** \n",
    "Further More, New York City cordinates are normaly found between :\n",
    "*          Latitude is between 40.7128 and 40.748817\n",
    "*          Longitude is between - 74.0059 and - 73.968285\n",
    "\n",
    "**Trip_duration**\n",
    "Lastly, there are unusual observations present in our target variable, trip_duration. The maximum trip_duration is unrealistic : 3526282.00 sec ( approximatively 980 hours). To get ride of this outlayers we will exclude all data points that are a specified number of standard deviations away from the mean.\n",
    "We will remove trip_duration observations that are more than two standard deviations away from the mean duration time, \n",
    "\n"
   ]
  },
  {
   "cell_type": "code",
   "execution_count": 7,
   "metadata": {
    "_uuid": "6759f8e0329e5f1492d5707a68cedd1413cb8aa4"
   },
   "outputs": [],
   "source": [
    "train = train[train['passenger_count']>0]\n",
    "train = train[train['passenger_count']<9]"
   ]
  },
  {
   "cell_type": "code",
   "execution_count": 8,
   "metadata": {
    "_uuid": "b91c2339f4c1ccf72e139e027c0f4e3e5d50d0a2"
   },
   "outputs": [],
   "source": [
    "#Pro-processing Pickup cordinates\n",
    "train = train[train['pickup_longitude'] <= -73.75]\n",
    "train = train[train['pickup_longitude'] >= -74.03]\n",
    "train = train[train['pickup_latitude'] <= 40.85]\n",
    "train = train[train['pickup_latitude'] >= 40.63]\n",
    "\n",
    "\n",
    "#Pro-processing dropoff cordinates \n",
    "train = train[train['dropoff_longitude'] <= -73.75]\n",
    "train = train[train['dropoff_longitude'] >= -74.03]\n",
    "train = train[train['dropoff_latitude'] <= 40.85]\n",
    "train = train[train['dropoff_latitude'] >= 40.63]"
   ]
  },
  {
   "cell_type": "code",
   "execution_count": 9,
   "metadata": {
    "_uuid": "b5e205906a4f60f7bb59d01813351f6f8d390215"
   },
   "outputs": [],
   "source": [
    "#Pre-processing trip duration \n",
    "trip_duration_mean = np.mean(train['trip_duration'])\n",
    "trip_duration_std = np.std(train['trip_duration'])\n",
    "train = train[train['trip_duration']<=trip_duration_mean + 2*trip_duration_std]\n",
    "train = train[train['trip_duration']>= trip_duration_mean - 2*trip_duration_std]"
   ]
  },
  {
   "cell_type": "code",
   "execution_count": 10,
   "metadata": {
    "_uuid": "321596ecd5ce798907b9497efc16bb8f6875c132"
   },
   "outputs": [
    {
     "data": {
      "text/html": [
       "<div>\n",
       "<style scoped>\n",
       "    .dataframe tbody tr th:only-of-type {\n",
       "        vertical-align: middle;\n",
       "    }\n",
       "\n",
       "    .dataframe tbody tr th {\n",
       "        vertical-align: top;\n",
       "    }\n",
       "\n",
       "    .dataframe thead th {\n",
       "        text-align: right;\n",
       "    }\n",
       "</style>\n",
       "<table border=\"1\" class=\"dataframe\">\n",
       "  <thead>\n",
       "    <tr style=\"text-align: right;\">\n",
       "      <th></th>\n",
       "      <th>count</th>\n",
       "      <th>mean</th>\n",
       "      <th>std</th>\n",
       "      <th>min</th>\n",
       "      <th>25%</th>\n",
       "      <th>50%</th>\n",
       "      <th>75%</th>\n",
       "      <th>max</th>\n",
       "    </tr>\n",
       "  </thead>\n",
       "  <tbody>\n",
       "    <tr>\n",
       "      <th>vendor_id</th>\n",
       "      <td>1437076.000</td>\n",
       "      <td>1.534</td>\n",
       "      <td>0.499</td>\n",
       "      <td>1.000</td>\n",
       "      <td>1.000</td>\n",
       "      <td>2.000</td>\n",
       "      <td>2.000</td>\n",
       "      <td>2.000</td>\n",
       "    </tr>\n",
       "    <tr>\n",
       "      <th>passenger_count</th>\n",
       "      <td>1437076.000</td>\n",
       "      <td>1.664</td>\n",
       "      <td>1.314</td>\n",
       "      <td>1.000</td>\n",
       "      <td>1.000</td>\n",
       "      <td>1.000</td>\n",
       "      <td>2.000</td>\n",
       "      <td>6.000</td>\n",
       "    </tr>\n",
       "    <tr>\n",
       "      <th>pickup_longitude</th>\n",
       "      <td>1437076.000</td>\n",
       "      <td>-73.974</td>\n",
       "      <td>0.037</td>\n",
       "      <td>-74.030</td>\n",
       "      <td>-73.992</td>\n",
       "      <td>-73.982</td>\n",
       "      <td>-73.968</td>\n",
       "      <td>-73.751</td>\n",
       "    </tr>\n",
       "    <tr>\n",
       "      <th>pickup_latitude</th>\n",
       "      <td>1437076.000</td>\n",
       "      <td>40.751</td>\n",
       "      <td>0.027</td>\n",
       "      <td>40.630</td>\n",
       "      <td>40.737</td>\n",
       "      <td>40.754</td>\n",
       "      <td>40.768</td>\n",
       "      <td>40.850</td>\n",
       "    </tr>\n",
       "    <tr>\n",
       "      <th>dropoff_longitude</th>\n",
       "      <td>1437076.000</td>\n",
       "      <td>-73.974</td>\n",
       "      <td>0.033</td>\n",
       "      <td>-74.030</td>\n",
       "      <td>-73.991</td>\n",
       "      <td>-73.980</td>\n",
       "      <td>-73.963</td>\n",
       "      <td>-73.750</td>\n",
       "    </tr>\n",
       "    <tr>\n",
       "      <th>dropoff_latitude</th>\n",
       "      <td>1437076.000</td>\n",
       "      <td>40.752</td>\n",
       "      <td>0.030</td>\n",
       "      <td>40.630</td>\n",
       "      <td>40.736</td>\n",
       "      <td>40.755</td>\n",
       "      <td>40.770</td>\n",
       "      <td>40.850</td>\n",
       "    </tr>\n",
       "    <tr>\n",
       "      <th>trip_duration</th>\n",
       "      <td>1437076.000</td>\n",
       "      <td>824.448</td>\n",
       "      <td>644.681</td>\n",
       "      <td>1.000</td>\n",
       "      <td>394.000</td>\n",
       "      <td>655.000</td>\n",
       "      <td>1056.000</td>\n",
       "      <td>11411.000</td>\n",
       "    </tr>\n",
       "  </tbody>\n",
       "</table>\n",
       "</div>"
      ],
      "text/plain": [
       "                        count    mean    ...         75%       max\n",
       "vendor_id         1437076.000   1.534    ...       2.000     2.000\n",
       "passenger_count   1437076.000   1.664    ...       2.000     6.000\n",
       "pickup_longitude  1437076.000 -73.974    ...     -73.968   -73.751\n",
       "pickup_latitude   1437076.000  40.751    ...      40.768    40.850\n",
       "dropoff_longitude 1437076.000 -73.974    ...     -73.963   -73.750\n",
       "dropoff_latitude  1437076.000  40.752    ...      40.770    40.850\n",
       "trip_duration     1437076.000 824.448    ...    1056.000 11411.000\n",
       "\n",
       "[7 rows x 8 columns]"
      ]
     },
     "execution_count": 10,
     "metadata": {},
     "output_type": "execute_result"
    }
   ],
   "source": [
    "# Confirm removal\n",
    "train.describe().transpose()"
   ]
  },
  {
   "cell_type": "markdown",
   "metadata": {
    "_uuid": "d8b10011950ed32e6fcb4d15454dfab80d62fbc7"
   },
   "source": [
    "### 3. Pre-processing Data : Data type\n",
    "   Here we extract dates, by converting them  \"object\" type to \"datetime\" type.               "
   ]
  },
  {
   "cell_type": "code",
   "execution_count": 11,
   "metadata": {
    "_uuid": "ba17254c63824e5c7f3e2478b241faa2c522a8bc"
   },
   "outputs": [],
   "source": [
    "# Pickups\n",
    "train['pickup_datetime'] = pd.to_datetime(train['pickup_datetime']) \n",
    "\n",
    "# Drop-offs\n",
    "train['dropoff_datetime'] = pd.to_datetime(train['dropoff_datetime']) "
   ]
  },
  {
   "cell_type": "code",
   "execution_count": 12,
   "metadata": {
    "_uuid": "408ceb93884524faee20e6ca1eb08e5e3bf801d0"
   },
   "outputs": [
    {
     "name": "stdout",
     "output_type": "stream",
     "text": [
      "<class 'pandas.core.frame.DataFrame'>\n",
      "Int64Index: 1437076 entries, 0 to 1458643\n",
      "Data columns (total 11 columns):\n",
      "id                    1437076 non-null object\n",
      "vendor_id             1437076 non-null int64\n",
      "pickup_datetime       1437076 non-null datetime64[ns]\n",
      "dropoff_datetime      1437076 non-null datetime64[ns]\n",
      "passenger_count       1437076 non-null int64\n",
      "pickup_longitude      1437076 non-null float64\n",
      "pickup_latitude       1437076 non-null float64\n",
      "dropoff_longitude     1437076 non-null float64\n",
      "dropoff_latitude      1437076 non-null float64\n",
      "store_and_fwd_flag    1437076 non-null object\n",
      "trip_duration         1437076 non-null int64\n",
      "dtypes: datetime64[ns](2), float64(4), int64(3), object(2)\n",
      "memory usage: 131.6+ MB\n"
     ]
    }
   ],
   "source": [
    "# Confirm changes\n",
    "train.info()"
   ]
  },
  {
   "cell_type": "markdown",
   "metadata": {
    "_uuid": "de124012c74d882a8c04b827b59145a389c10cdc"
   },
   "source": []
  },
  {
   "cell_type": "markdown",
   "metadata": {
    "_uuid": "f003c26eaf38da4f77a77cf7f36beeb2665eedf9"
   },
   "source": [
    "### 4. Pre-processing data : new features\n",
    "Pickup_date and dropoff_date contain unit information that we can extract individually to get new features that would help us to vizualize the data set. "
   ]
  },
  {
   "cell_type": "code",
   "execution_count": 13,
   "metadata": {
    "_uuid": "6cca21a937a6bbba0eb528ba10a6ecc5f911487e"
   },
   "outputs": [],
   "source": [
    "# Decomposing pickup_datetime variable into date and time\n",
    "train['pickup_date'] = train['pickup_datetime'].dt.date # Extract date\n",
    "train['pickup_time'] = train['pickup_datetime'].dt.time # Extract time\n",
    "\n",
    "# Decomposing dropoff_datetime variable into date and time \n",
    "train['dropoff_date'] = train['dropoff_datetime'].dt.date # Extract date\n",
    "train['dropoff_time'] = train['dropoff_datetime'].dt.time # Extract time\n",
    "\n",
    "\n",
    "\n",
    "# Additional pickup features\n",
    "train['pickup_month'] = train['pickup_datetime'].dt.month # Extract month\n",
    "\n",
    "train['pickup_hour'] = train['pickup_datetime'].dt.hour # Extract hour\n",
    "\n",
    "train['pickup_weekday'] = train['pickup_datetime'].dt.dayofweek # Extract day of week"
   ]
  },
  {
   "cell_type": "code",
   "execution_count": 14,
   "metadata": {
    "_uuid": "9e9fa514985c744f85a1eb7125358cfdabbb03fb"
   },
   "outputs": [
    {
     "data": {
      "text/plain": [
       "Index(['id', 'vendor_id', 'passenger_count', 'pickup_longitude',\n",
       "       'pickup_latitude', 'dropoff_longitude', 'dropoff_latitude',\n",
       "       'store_and_fwd_flag', 'trip_duration', 'pickup_date', 'pickup_time',\n",
       "       'dropoff_date', 'dropoff_time', 'pickup_month', 'pickup_hour',\n",
       "       'pickup_weekday'],\n",
       "      dtype='object')"
      ]
     },
     "execution_count": 14,
     "metadata": {},
     "output_type": "execute_result"
    }
   ],
   "source": [
    "# Drop concatentated timestamp columns\n",
    "train.drop(['pickup_datetime'], axis = 1, inplace = True)\n",
    "train.drop(['dropoff_datetime'], axis = 1, inplace = True)\n",
    "\n",
    "# Confirm removal\n",
    "train.columns"
   ]
  },
  {
   "cell_type": "code",
   "execution_count": 15,
   "metadata": {
    "_uuid": "b2ce1e39bace28bf516713f853fc9e676293d571"
   },
   "outputs": [],
   "source": [
    "# Differences between dropoff and pickup geocardiante helps to calculate distance covered during a trips\n",
    "\n",
    "train['dist_long'] = train['pickup_longitude'] - train['dropoff_longitude']\n",
    "#test['dist_long'] = test['pickup_longitude'] - test['dropoff_longitude']\n",
    "\n",
    "train['dist_lat'] = train['pickup_latitude'] - train['dropoff_latitude']\n",
    "#test['dist_lat'] = test['pickup_latitude'] - test['dropoff_latitude']\n",
    "\n",
    "\n",
    "# Distance covered\n",
    "train['dist'] = np.sqrt(np.square(train['dist_long']) + np.square(train['dist_lat']))\n",
    "#test['dist'] = np.sqrt(np.square(test['dist_long']) + np.square(test['dist_lat']))"
   ]
  },
  {
   "cell_type": "markdown",
   "metadata": {
    "_uuid": "58eef9dbbd930934109d152210702b57305e5d5f"
   },
   "source": [
    "\n",
    "    "
   ]
  },
  {
   "cell_type": "markdown",
   "metadata": {
    "_uuid": "2f46ffa1ad50a8752f099138f2ec742349eec6d2"
   },
   "source": [
    "# **IV. Exploratory Data Analysis (Visualization)**"
   ]
  },
  {
   "cell_type": "markdown",
   "metadata": {
    "_uuid": "5c003d83fd709ffa3f58dc584754a190c28cf5cd"
   },
   "source": [
    "## 1.Target Variable: trip_duration"
   ]
  },
  {
   "cell_type": "code",
   "execution_count": 16,
   "metadata": {
    "_uuid": "63949e21bf323ae92c530303255401776f089052"
   },
   "outputs": [
    {
     "data": {
      "image/png": "[encoded data removed]",
      "text/plain": [
       "<Figure size 612x360 with 1 Axes>"
      ]
     },
     "metadata": {},
     "output_type": "display_data"
    }
   ],
   "source": [
    "# Mean distribution\n",
    "mu = train['trip_duration'].mean()\n",
    "\n",
    "# Std distribution\n",
    "sigma = train['trip_duration'].std()\n",
    "num_bins = 100\n",
    "\n",
    "# Histogram \n",
    "fig = plt.figure(figsize=(8.5, 5))\n",
    "n, bins, patches = plt.hist(train['trip_duration'], num_bins, normed=1,\n",
    "                           edgecolor = 'black', lw = 1, alpha = .40)\n",
    "# Normal Distribution\n",
    "y = mlab.normpdf(bins, mu, sigma)\n",
    "plt.plot(bins, y, 'r--', linewidth=2)\n",
    "plt.xlabel('trip_duration')\n",
    "plt.ylabel('Probability density')\n",
    "\n",
    "# Adding a title\n",
    "plt.title(r'$\\mathrm{Trip\\ duration\\ skewed \\ to \\ the \\ right:}\\ \\mu=%.3f,\\ \\sigma=%.3f$'%(mu,sigma))\n",
    "plt.grid(True)\n",
    "#fig.tight_layout()\n",
    "plt.show();\n",
    "\n"
   ]
  },
  {
   "cell_type": "markdown",
   "metadata": {
    "_uuid": "57d434341d7223fe9a0a7229a047356a26b8afda"
   },
   "source": [
    "## 2.Passenger count per trip duration"
   ]
  },
  {
   "cell_type": "code",
   "execution_count": 17,
   "metadata": {
    "_uuid": "528f28ece9665ff0c64a09befee3fa1de3d94645"
   },
   "outputs": [
    {
     "data": {
      "image/png": "[encoded data removed]",
      "text/plain": [
       "<Figure size 612x360 with 1 Axes>"
      ]
     },
     "metadata": {},
     "output_type": "display_data"
    }
   ],
   "source": [
    "\n",
    "import matplotlib\n",
    "matplotlib.style.use('fivethirtyeight')\n",
    "\n",
    "# Create boxplot\n",
    "plt.figure(figsize=(8.5,5))\n",
    "passenger_graph = sns.boxplot(x = 'passenger_count', y = 'trip_duration', data = train, \n",
    "                          palette = 'gist_rainbow', linewidth = 2.3)\n",
    "\n",
    "# Customize tick size\n",
    "passenger_graph.tick_params(axis = 'both', which = 'major', labelsize = 12)\n",
    "\n",
    "\n",
    "# Customize tick labels of the y-axis\n",
    "passenger_graph.set_yticklabels(labels = [-10, '0  ', '2000  ', '4000  ', '6000  ', '8000  ', '10000  ','12000 s'])\n",
    "\n",
    "\n",
    "# Bolding horizontal line at y = 0\n",
    "passenger_graph.axhline(y = 0, color = 'black', linewidth = 1.3, alpha = .70)\n",
    "\n",
    "\n",
    "# # Adding a title and a subtitle\n",
    "passenger_graph.text(x =-1.05, y = 13800, s = \"Passenger count does not have much effect on trip duration\",\n",
    "               fontsize =15 , weight = 'bold', alpha = .90)\n",
    "passenger_graph.text(x = -1.05, y = 13000.3, \n",
    "               s = 'Median trip times remain similar despite more passengers being aboard',\n",
    "              fontsize = 14, alpha = .85)\n",
    "plt.show()\n",
    "\n"
   ]
  },
  {
   "cell_type": "markdown",
   "metadata": {
    "_uuid": "0f59536a4a7a76223c6bbab7837c9dbcf19ce0dc"
   },
   "source": [
    "## 3.Trip duration in a week"
   ]
  },
  {
   "cell_type": "code",
   "execution_count": 18,
   "metadata": {
    "_uuid": "4bea37554d18e1519ee8be0d90c04b6f66f2964b"
   },
   "outputs": [
    {
     "data": {
      "image/png": "[encoded data removed]",
      "text/plain": [
       "<Figure size 612x360 with 2 Axes>"
      ]
     },
     "metadata": {},
     "output_type": "display_data"
    }
   ],
   "source": [
    "# Trips by Hour and Day of Week\n",
    "trip_duration_median = train['trip_duration'].median()\n",
    "plt.figure(figsize=(8.5,5))\n",
    "\n",
    "pickup_hourday = train.groupby(['pickup_hour','pickup_weekday'])['trip_duration'].median().unstack()\n",
    "hourday_graph = sns.heatmap(pickup_hourday[pickup_hourday>trip_duration_median], lw = .5, annot = True, cmap = 'GnBu', fmt = 'g',annot_kws = {\"size\":10} )\n",
    "\n",
    "\n",
    "# Customize tick labels of the y-axis\n",
    "hourday_graph.set_xticklabels(labels = ['Mon', 'Tue', 'Wed','Thu','Fri','Sat','Sun'])\n",
    "\n",
    "\n",
    "# Remove the label of the x-axis\n",
    "hourday_graph.xaxis.label.set_visible(False)\n",
    "\n",
    "# # Adding a title and a subtitle\n",
    "hourday_graph.text(x =-.8, y = 27, s = \"Trip durations vary greatly depending on day of week\",\n",
    "               fontsize =20 , weight = 'bold', alpha = .90)\n",
    "\n",
    "plt.show()"
   ]
  },
  {
   "cell_type": "markdown",
   "metadata": {
    "_uuid": "2746afac2a62aa8854b4c0fc009da24a6b14fd01"
   },
   "source": [
    "Trips tend much longer than the median trip_duration of 655 seconds during the following parts of the week:\n",
    "\n",
    "* **Monday** - Thursday Office Hours: 8:00 am - 6:00 pm\n",
    "* **Thursday**, **Friday, Saturday Nights**: 6:00 pm - midnight\n",
    "* **Early Saturday** & **Sunday Mornings**: 12:00 am - 1:00 am\n",
    "* **Sunday Afternoons**: 2:00 pm and 4:00 pm"
   ]
  },
  {
   "cell_type": "markdown",
   "metadata": {
    "_uuid": "9160a916a0556ddf12544453092564f8430e136c"
   },
   "source": [
    "## 4.Trip Duration by Month"
   ]
  },
  {
   "cell_type": "code",
   "execution_count": 19,
   "metadata": {
    "_uuid": "353f23fa7c56ce42847bbc672b1455ed6459166e"
   },
   "outputs": [
    {
     "data": {
      "image/png": "[encoded data removed]",
      "text/plain": [
       "<Figure size 612x360 with 1 Axes>"
      ]
     },
     "metadata": {},
     "output_type": "display_data"
    },
    {
     "data": {
      "text/html": [
       "<div>\n",
       "<style scoped>\n",
       "    .dataframe tbody tr th:only-of-type {\n",
       "        vertical-align: middle;\n",
       "    }\n",
       "\n",
       "    .dataframe tbody tr th {\n",
       "        vertical-align: top;\n",
       "    }\n",
       "\n",
       "    .dataframe thead th {\n",
       "        text-align: right;\n",
       "    }\n",
       "</style>\n",
       "<table border=\"1\" class=\"dataframe\">\n",
       "  <thead>\n",
       "    <tr style=\"text-align: right;\">\n",
       "      <th>pickup_month</th>\n",
       "      <th>1</th>\n",
       "      <th>2</th>\n",
       "      <th>3</th>\n",
       "      <th>4</th>\n",
       "      <th>5</th>\n",
       "      <th>6</th>\n",
       "    </tr>\n",
       "  </thead>\n",
       "  <tbody>\n",
       "    <tr>\n",
       "      <th>count</th>\n",
       "      <td>226431.000</td>\n",
       "      <td>235043.000</td>\n",
       "      <td>252434.000</td>\n",
       "      <td>247849.000</td>\n",
       "      <td>244581.000</td>\n",
       "      <td>230738.000</td>\n",
       "    </tr>\n",
       "    <tr>\n",
       "      <th>mean</th>\n",
       "      <td>779.180</td>\n",
       "      <td>778.272</td>\n",
       "      <td>805.638</td>\n",
       "      <td>834.930</td>\n",
       "      <td>869.895</td>\n",
       "      <td>877.056</td>\n",
       "    </tr>\n",
       "    <tr>\n",
       "      <th>std</th>\n",
       "      <td>599.652</td>\n",
       "      <td>582.846</td>\n",
       "      <td>617.997</td>\n",
       "      <td>642.635</td>\n",
       "      <td>702.520</td>\n",
       "      <td>703.833</td>\n",
       "    </tr>\n",
       "    <tr>\n",
       "      <th>min</th>\n",
       "      <td>1.000</td>\n",
       "      <td>1.000</td>\n",
       "      <td>1.000</td>\n",
       "      <td>1.000</td>\n",
       "      <td>1.000</td>\n",
       "      <td>1.000</td>\n",
       "    </tr>\n",
       "    <tr>\n",
       "      <th>25%</th>\n",
       "      <td>381.000</td>\n",
       "      <td>381.000</td>\n",
       "      <td>390.000</td>\n",
       "      <td>400.000</td>\n",
       "      <td>405.000</td>\n",
       "      <td>411.000</td>\n",
       "    </tr>\n",
       "    <tr>\n",
       "      <th>50%</th>\n",
       "      <td>623.000</td>\n",
       "      <td>629.000</td>\n",
       "      <td>646.000</td>\n",
       "      <td>667.000</td>\n",
       "      <td>681.000</td>\n",
       "      <td>687.000</td>\n",
       "    </tr>\n",
       "    <tr>\n",
       "      <th>75%</th>\n",
       "      <td>996.000</td>\n",
       "      <td>1005.000</td>\n",
       "      <td>1035.000</td>\n",
       "      <td>1076.000</td>\n",
       "      <td>1112.000</td>\n",
       "      <td>1120.000</td>\n",
       "    </tr>\n",
       "    <tr>\n",
       "      <th>max</th>\n",
       "      <td>11411.000</td>\n",
       "      <td>10574.000</td>\n",
       "      <td>11406.000</td>\n",
       "      <td>10380.000</td>\n",
       "      <td>10632.000</td>\n",
       "      <td>11099.000</td>\n",
       "    </tr>\n",
       "  </tbody>\n",
       "</table>\n",
       "</div>"
      ],
      "text/plain": [
       "pickup_month          1          2    ...              5          6\n",
       "count        226431.000 235043.000    ...     244581.000 230738.000\n",
       "mean            779.180    778.272    ...        869.895    877.056\n",
       "std             599.652    582.846    ...        702.520    703.833\n",
       "min               1.000      1.000    ...          1.000      1.000\n",
       "25%             381.000    381.000    ...        405.000    411.000\n",
       "50%             623.000    629.000    ...        681.000    687.000\n",
       "75%             996.000   1005.000    ...       1112.000   1120.000\n",
       "max           11411.000  10574.000    ...      10632.000  11099.000\n",
       "\n",
       "[8 rows x 6 columns]"
      ]
     },
     "execution_count": 19,
     "metadata": {},
     "output_type": "execute_result"
    }
   ],
   "source": [
    "# Box plot of pickups by month\n",
    "import matplotlib\n",
    "matplotlib.style.use('fivethirtyeight')\n",
    "\n",
    "# Create boxplot\n",
    "plt.figure(figsize=(8.5,5))\n",
    "month_graph = sns.boxplot(x = 'pickup_month', y = 'trip_duration', data = train, palette = 'gist_rainbow', linewidth = 2.3)\n",
    "\n",
    "# Remove the label of the x-axis\n",
    "month_graph.xaxis.label.set_visible(False)\n",
    "month_graph.yaxis.label.set_visible(False)\n",
    "\n",
    "month_graph.text(x =-1.05, y = 13800, s = \"Month of transaction has minimal effect on trip duration\",\n",
    "               fontsize =20 , weight = 'bold', alpha = .90)\n",
    "month_graph.text(x = -1.05, y = 13000.3, \n",
    "               s = 'Median trip times hover around ~650 seconds throughout the year',\n",
    "              fontsize = 14, alpha = .85)\n",
    "plt.show()\n",
    "\n",
    "\n",
    "# Statistical summary\n",
    "train.groupby('pickup_month')['trip_duration'].describe().transpose()\n",
    "\n"
   ]
  },
  {
   "cell_type": "markdown",
   "metadata": {
    "_uuid": "c06d299c822843b0466449ea3af55b9cf1d9872f"
   },
   "source": [
    "June has the highest median trip_duration overall, but only slightly. Median trip times seem to hover around the 10-12 minute mark and do not vary much from month-to-month. This may be an indication that this month feature will not be helpful in predicting our target variable, trip_duration. \n"
   ]
  },
  {
   "cell_type": "code",
   "execution_count": 20,
   "metadata": {
    "_uuid": "2e5ed9e78a8648799f7b22d1656aaea0d37e07bf"
   },
   "outputs": [
    {
     "name": "stdout",
     "output_type": "stream",
     "text": [
      "List the numerical features in decending order by their correlation with trip_duration:\n",
      "\n",
      "dist: 0.7649971717532931\n",
      "pickup_longitude: 0.3632691702226197\n",
      "dropoff_longitude: 0.25548835909396256\n",
      "pickup_latitude: -0.23548982525753842\n",
      "dropoff_latitude: -0.19720945010930235\n",
      "dist_long: 0.1211765958512815\n",
      "pickup_month: 0.059455091448905886\n",
      "pickup_weekday: -0.03544469782338135\n",
      "pickup_hour: 0.03025386122067256\n",
      "dist_lat: -0.02040568865564871\n",
      "passenger_count: 0.015344197884831583\n"
     ]
    },
    {
     "data": {
      "image/png": "[encoded data removed]",
      "text/plain": [
       "<Figure size 864x504 with 2 Axes>"
      ]
     },
     "metadata": {},
     "output_type": "display_data"
    }
   ],
   "source": [
    "# Correlations to trip_duration\n",
    "corr = train.select_dtypes(include = ['float64', 'int64']).iloc[:, 1:].corr()\n",
    "cor_dict = corr['trip_duration'].to_dict()\n",
    "del cor_dict['trip_duration']\n",
    "print(\"List the numerical features in decending order by their correlation with trip_duration:\\n\")\n",
    "for ele in sorted(cor_dict.items(), key = lambda x: -abs(x[1])):\n",
    "    print(\"{0}: {1}\".format(*ele))\n",
    "    \n",
    "# Correlation matrix heatmap\n",
    "corrmat = train.corr()\n",
    "plt.figure(figsize=(12, 7))\n",
    "\n",
    "# Number of variables for heatmap\n",
    "k = 76\n",
    "cols = corrmat.nlargest(k, 'trip_duration')['trip_duration'].index\n",
    "cm = np.corrcoef(train[cols].values.T)\n",
    "\n",
    "# Generate mask for upper triangle\n",
    "mask = np.zeros_like(cm, dtype=np.bool)\n",
    "mask[np.triu_indices_from(mask)] = True\n",
    "\n",
    "sns.set(font_scale=1)\n",
    "sns.heatmap(cm, mask=mask, cbar=True, annot=True, square=True,\\\n",
    "                 fmt='.2f',annot_kws={'size': 12}, yticklabels=cols.values,\\\n",
    "                 xticklabels=cols.values, cmap = 'coolwarm',lw = .1)\n",
    "plt.show() "
   ]
  },
  {
   "cell_type": "markdown",
   "metadata": {
    "_uuid": "bce54347dbcf1d35c31926abeaf8f73c7a8c0388"
   },
   "source": [
    "There is quite a good correlation between distance and trip duration(our target). "
   ]
  },
  {
   "cell_type": "markdown",
   "metadata": {
    "_uuid": "f6e659e3c73afcc7053d9dfd494b10f6906f6b43"
   },
   "source": []
  },
  {
   "cell_type": "markdown",
   "metadata": {
    "_uuid": "867519e71f20abbc64bf2da85b68389a7569e49d"
   },
   "source": [
    "# **V. Algorithme**"
   ]
  },
  {
   "cell_type": "markdown",
   "metadata": {
    "_uuid": "a46c20fdc22def9c84604c61c41d7c1e936b31ba"
   },
   "source": [
    "## 1.Droping unnecessary features and incoding store_and_fwd_flag\n",
    "We need to convert store_and_fwd_flag to numeric so as to get it into a ready to use in our model."
   ]
  },
  {
   "cell_type": "code",
   "execution_count": 21,
   "metadata": {
    "_uuid": "d2c9659fa9ae5eb0958c47166bb19ce2607d162b"
   },
   "outputs": [],
   "source": [
    "# Encoding Categoric data (converting 'store_and_fwd_flag' to numeric)\n",
    "train['store_and_fwd_flag'] = train['store_and_fwd_flag'].map({'N':0,'Y':1})"
   ]
  },
  {
   "cell_type": "code",
   "execution_count": 22,
   "metadata": {
    "_uuid": "fbb81c7d036704bea818b4ccd57023d811d4529e"
   },
   "outputs": [],
   "source": [
    "train.drop(columns=['pickup_date','pickup_time','dropoff_date', 'dropoff_time', 'dist_long', 'dist_lat'], axis = 1, inplace = True)"
   ]
  },
  {
   "cell_type": "code",
   "execution_count": 23,
   "metadata": {
    "_uuid": "2988f0072461c963536a9ca918cf594e2e9c568f"
   },
   "outputs": [
    {
     "data": {
      "text/html": [
       "<div>\n",
       "<style scoped>\n",
       "    .dataframe tbody tr th:only-of-type {\n",
       "        vertical-align: middle;\n",
       "    }\n",
       "\n",
       "    .dataframe tbody tr th {\n",
       "        vertical-align: top;\n",
       "    }\n",
       "\n",
       "    .dataframe thead th {\n",
       "        text-align: right;\n",
       "    }\n",
       "</style>\n",
       "<table border=\"1\" class=\"dataframe\">\n",
       "  <thead>\n",
       "    <tr style=\"text-align: right;\">\n",
       "      <th></th>\n",
       "      <th>id</th>\n",
       "      <th>vendor_id</th>\n",
       "      <th>passenger_count</th>\n",
       "      <th>pickup_longitude</th>\n",
       "      <th>pickup_latitude</th>\n",
       "      <th>dropoff_longitude</th>\n",
       "      <th>dropoff_latitude</th>\n",
       "      <th>store_and_fwd_flag</th>\n",
       "      <th>trip_duration</th>\n",
       "      <th>pickup_month</th>\n",
       "      <th>pickup_hour</th>\n",
       "      <th>pickup_weekday</th>\n",
       "      <th>dist</th>\n",
       "    </tr>\n",
       "  </thead>\n",
       "  <tbody>\n",
       "    <tr>\n",
       "      <th>0</th>\n",
       "      <td>id2875421</td>\n",
       "      <td>2</td>\n",
       "      <td>1</td>\n",
       "      <td>-73.982</td>\n",
       "      <td>40.768</td>\n",
       "      <td>-73.965</td>\n",
       "      <td>40.766</td>\n",
       "      <td>0</td>\n",
       "      <td>455</td>\n",
       "      <td>3</td>\n",
       "      <td>17</td>\n",
       "      <td>0</td>\n",
       "      <td>0.018</td>\n",
       "    </tr>\n",
       "    <tr>\n",
       "      <th>1</th>\n",
       "      <td>id2377394</td>\n",
       "      <td>1</td>\n",
       "      <td>1</td>\n",
       "      <td>-73.980</td>\n",
       "      <td>40.739</td>\n",
       "      <td>-73.999</td>\n",
       "      <td>40.731</td>\n",
       "      <td>0</td>\n",
       "      <td>663</td>\n",
       "      <td>6</td>\n",
       "      <td>0</td>\n",
       "      <td>6</td>\n",
       "      <td>0.020</td>\n",
       "    </tr>\n",
       "    <tr>\n",
       "      <th>2</th>\n",
       "      <td>id3858529</td>\n",
       "      <td>2</td>\n",
       "      <td>1</td>\n",
       "      <td>-73.979</td>\n",
       "      <td>40.764</td>\n",
       "      <td>-74.005</td>\n",
       "      <td>40.710</td>\n",
       "      <td>0</td>\n",
       "      <td>2124</td>\n",
       "      <td>1</td>\n",
       "      <td>11</td>\n",
       "      <td>1</td>\n",
       "      <td>0.060</td>\n",
       "    </tr>\n",
       "  </tbody>\n",
       "</table>\n",
       "</div>"
      ],
      "text/plain": [
       "          id  vendor_id  ...   pickup_weekday  dist\n",
       "0  id2875421          2  ...                0 0.018\n",
       "1  id2377394          1  ...                6 0.020\n",
       "2  id3858529          2  ...                1 0.060\n",
       "\n",
       "[3 rows x 13 columns]"
      ]
     },
     "execution_count": 23,
     "metadata": {},
     "output_type": "execute_result"
    }
   ],
   "source": [
    "train.head(3)"
   ]
  },
  {
   "cell_type": "markdown",
   "metadata": {
    "_uuid": "3216fb8a9507e599e23cc690431d6de051e47911"
   },
   "source": [
    "## 2. Feature Enginering"
   ]
  },
  {
   "cell_type": "code",
   "execution_count": 24,
   "metadata": {
    "_uuid": "f7ff56765dcf26eda11793fadd63289d27ff5c3c"
   },
   "outputs": [],
   "source": [
    "X = train[['vendor_id', 'passenger_count', 'pickup_longitude',\n",
    "       'pickup_latitude', 'dropoff_longitude', 'dropoff_latitude',\n",
    "       'store_and_fwd_flag','pickup_month', 'pickup_hour',\n",
    "       'pickup_weekday', 'dist']]\n",
    "\n",
    "# Target\n",
    "y = train['trip_duration']"
   ]
  },
  {
   "cell_type": "markdown",
   "metadata": {
    "_uuid": "65c90abb3675c604c7b1ceced64e4d781f845231"
   },
   "source": [
    "##     3. Train/valid spliting"
   ]
  },
  {
   "cell_type": "code",
   "execution_count": 25,
   "metadata": {
    "_uuid": "9186ffe45ab55fe72e9b47de8a7e0c79f6c4b065"
   },
   "outputs": [
    {
     "data": {
      "text/plain": [
       "((1149660, 11), (1149660,), (287416, 11), (287416,))"
      ]
     },
     "execution_count": 25,
     "metadata": {},
     "output_type": "execute_result"
    }
   ],
   "source": [
    "from sklearn.model_selection import train_test_split\n",
    "\n",
    "X_train, X_val, y_train, y_val = train_test_split(\n",
    "    X, y, test_size = 0.2, random_state = 0)\n",
    "X_train.shape, y_train.shape, X_val.shape, y_val.shape"
   ]
  },
  {
   "cell_type": "markdown",
   "metadata": {
    "_uuid": "d6d713a0f59c178398e5e55a7411e87f49d26699"
   },
   "source": [
    "## 3.Model  selection 1 :  (Linear Regression)"
   ]
  },
  {
   "cell_type": "code",
   "execution_count": 26,
   "metadata": {
    "_uuid": "3e70bda332c54162f95206646089a6fd66429b68"
   },
   "outputs": [],
   "source": [
    "#instantiate model\n",
    "lr = LinearRegression()\n",
    "\n",
    "# Fit to training data\n",
    "lr = lr.fit(X_train,y_train);\n",
    "\n",
    "#Predict\n",
    "y_pred_lr = lr.predict(X_val)"
   ]
  },
  {
   "cell_type": "code",
   "execution_count": 27,
   "metadata": {
    "_uuid": "d606cce095a00eccfd1e10bb952c97e78d8acd99"
   },
   "outputs": [
    {
     "name": "stdout",
     "output_type": "stream",
     "text": [
      "[405.13840956 404.84240589 405.79096581 404.83149789 403.97562858]\n",
      "404.91578154440793\n"
     ]
    }
   ],
   "source": [
    "#cross_validation_score\n",
    "cvs_lr = np.sqrt(\n",
    "    -cross_val_score(lr, X_train, y_train, cv=5, scoring='neg_mean_squared_error'))\n",
    "print(cvs_lr)\n",
    "\n",
    "mean_cvs_lr = np.mean(cvs_lr)\n",
    "print(mean_cvs_lr)"
   ]
  },
  {
   "cell_type": "code",
   "execution_count": 28,
   "metadata": {
    "_uuid": "1c538e42aff5f34bf1abe4851f4fb097b07bd93b"
   },
   "outputs": [
    {
     "name": "stdout",
     "output_type": "stream",
     "text": [
      "\n",
      "Random Forest Regression Performance Metrics\n",
      "R^2 = 0.6064865757438818\n",
      "MAE 276.1325256327022\n",
      "MSE 164159.12281107184\n",
      "RMSE 405.16554988186226\n"
     ]
    }
   ],
   "source": [
    "# Score It\n",
    "from sklearn import metrics\n",
    "print('\\nRandom Forest Regression Performance Metrics')\n",
    "print('R^2 =',metrics.explained_variance_score(y_val,y_pred_lr))\n",
    "print('MAE',metrics.mean_absolute_error(y_val, y_pred_lr))\n",
    "print('MSE',metrics.mean_squared_error(y_val, y_pred_lr))\n",
    "print('RMSE',np.sqrt(metrics.mean_squared_error(y_val, y_pred_lr)))"
   ]
  },
  {
   "cell_type": "markdown",
   "metadata": {
    "_uuid": "7184772b90b77f7394a6847b2baca5b71ba909df"
   },
   "source": [
    "R2 (R squared) is the proportion of the variance in the dependent variable that is predictable from the independent variable.The better the linear regression fits the data in comparison to the simple average, the closer the value of R^2 is to 1.\n",
    "In this case, R only 60% of the variation in the dependent variable is explained by this model. Such a score is an indication that the relationship between the features and independent variable is average. May be this score can be improuve with a non-linear model. "
   ]
  },
  {
   "cell_type": "markdown",
   "metadata": {
    "_uuid": "322a34f488c9536b891b32e2cac0241b4e325c03"
   },
   "source": [
    "## 4.Model selection 2 : RandomForest "
   ]
  },
  {
   "cell_type": "code",
   "execution_count": 29,
   "metadata": {
    "_uuid": "664e5b35015d30e1c0a8bc91dc57ad17375a671d"
   },
   "outputs": [
    {
     "name": "stdout",
     "output_type": "stream",
     "text": [
      "[0.78159867 0.77993161 0.77727196 0.77991885 0.78404357]\n",
      "0.7805529312919253\n"
     ]
    }
   ],
   "source": [
    "#model selection \n",
    "from sklearn.ensemble import RandomForestRegressor\n",
    "\n",
    "# Intantiate model \n",
    "rf = RandomForestRegressor(n_estimators = 20, n_jobs = -1)\n",
    "\n",
    "#fit\n",
    "rf = rf.fit(X_train, y_train)\n",
    "\n",
    "#Predict\n",
    "y_pred_rf = rf.predict(X_val)\n",
    "\n",
    "# crosse validation\n",
    "cvs_rf = cross_val_score(rf, X_train, y_train, cv=5)\n",
    "print(cvs_rf)\n",
    "\n",
    "mean_cvs_rf = np.mean(cvs_rf)\n",
    "print(mean_cvs_rf)"
   ]
  },
  {
   "cell_type": "code",
   "execution_count": 30,
   "metadata": {
    "_uuid": "cf867dc614c13a8e6e32f8e56cd2ae490c14f7c5"
   },
   "outputs": [
    {
     "name": "stdout",
     "output_type": "stream",
     "text": [
      "\n",
      "Random Foresst Performance Metrics\n",
      "R^2= 0.7834499973773233\n",
      "MAE: 187.59641052599054\n",
      "MSE: 90424.23126180843\n",
      "RMSE: 300.70622085651706\n",
      "RMSLE: 0.39523985146874757\n"
     ]
    }
   ],
   "source": [
    "from sklearn import metrics\n",
    "print('\\nRandom Foresst Performance Metrics')\n",
    "print('R^2=',metrics.explained_variance_score(y_val,y_pred_rf))\n",
    "print('MAE:',metrics.mean_absolute_error(y_val,y_pred_rf))\n",
    "print('MSE:',metrics.mean_squared_error(y_val,y_pred_rf))\n",
    "print('RMSE:',np.sqrt(metrics.mean_squared_error(y_val,y_pred_rf)))\n",
    "print('RMSLE:',np.sqrt(metrics.mean_squared_log_error(y_val, y_pred_rf)))"
   ]
  },
  {
   "cell_type": "markdown",
   "metadata": {
    "_uuid": "4e98aa784497e5ce6eb532ca5c64890adea1d9ed"
   },
   "source": [
    "\n",
    "\n",
    "Base on comparaison of performance metrics of the both model, we decide to use the Random Forest type to make our submission as following. "
   ]
  },
  {
   "cell_type": "markdown",
   "metadata": {
    "_uuid": "59b27ac156c57af7cbbf4a4ad5937332d80bcb70"
   },
   "source": []
  },
  {
   "cell_type": "markdown",
   "metadata": {
    "_uuid": "8dbac325a18deece2403fc31de46968e157cbf37"
   },
   "source": [
    "#  **VI. Submission**"
   ]
  },
  {
   "cell_type": "markdown",
   "metadata": {
    "_uuid": "ac374bd14b4134a083e5e9a5df4fc88b7695dc57"
   },
   "source": [
    "    In order to submit we need to reshape test data like we did on train data set, so that our model(Random Forest) can be use to predict. "
   ]
  },
  {
   "cell_type": "markdown",
   "metadata": {
    "_uuid": "c7bb5efe120bb7783468499a37332e0ee3a09c1c"
   },
   "source": [
    "## 1. Preprocessing Test data set "
   ]
  },
  {
   "cell_type": "code",
   "execution_count": 31,
   "metadata": {
    "_uuid": "c26256c282a4c6daaa9095bf5d2c7bc6ced733f2"
   },
   "outputs": [
    {
     "name": "stdout",
     "output_type": "stream",
     "text": [
      "<class 'pandas.core.frame.DataFrame'>\n",
      "RangeIndex: 625134 entries, 0 to 625133\n",
      "Data columns (total 9 columns):\n",
      "id                    625134 non-null object\n",
      "vendor_id             625134 non-null int64\n",
      "pickup_datetime       625134 non-null object\n",
      "passenger_count       625134 non-null int64\n",
      "pickup_longitude      625134 non-null float64\n",
      "pickup_latitude       625134 non-null float64\n",
      "dropoff_longitude     625134 non-null float64\n",
      "dropoff_latitude      625134 non-null float64\n",
      "store_and_fwd_flag    625134 non-null object\n",
      "dtypes: float64(4), int64(2), object(3)\n",
      "memory usage: 42.9+ MB\n",
      "shape (625134, 9)\n"
     ]
    }
   ],
   "source": [
    "# Test data info\n",
    "test.info()\n",
    "\n",
    "# Test data shape\n",
    "print('shape',test.shape)"
   ]
  },
  {
   "cell_type": "code",
   "execution_count": 32,
   "metadata": {
    "_uuid": "bfaa5eb37ba8a085a98b0ebb05081253a547f2f6"
   },
   "outputs": [],
   "source": [
    "# Convert timestamps to date objects\n",
    "test['pickup_datetime'] = pd.to_datetime(test.pickup_datetime) # Pickups\n",
    "\n",
    "# Delimit pickup_datetime variable \n",
    "test['pickup_date'] = test['pickup_datetime'].dt.date # Extract date\n",
    "test['pickup_time'] = test['pickup_datetime'].dt.time # Extract time\n",
    "\n",
    "# Additional pickup features\n",
    "test['pickup_month'] = test['pickup_datetime'].dt.month # Extract month\n",
    "\n",
    "#train_data['pickup_YYYYMM'] = train_data['pickup_datetime'].apply(lambda x: x.strftime('%Y%m')) # Extract yearmonth\n",
    "test['pickup_hour'] = test['pickup_datetime'].dt.hour # Extract hour\n",
    "test['pickup_weekday'] = test['pickup_datetime'].dt.dayofweek # Extract day of week\n",
    "\n",
    "# Encode categorical variables\n",
    "test['store_and_fwd_flag'] = test['store_and_fwd_flag'].map({'N':0,'Y':1})\n",
    "\n",
    "\n",
    "# Differences between dropoff and pickup geocardiante helps to calculate distance covered during a trips\n",
    "test['dist_long'] = test['pickup_longitude'] - test['dropoff_longitude']\n",
    "test['dist_lat'] = test['pickup_latitude'] - test['dropoff_latitude']\n",
    "\n",
    "# Distance covered\n",
    "test['dist'] = np.sqrt(np.square(test['dist_long']) + np.square(test['dist_lat']))\n",
    "\n",
    "#drop useless colomns\n",
    "test.drop(columns=['pickup_datetime', 'pickup_date', 'dist_long', 'dist_lat'], axis = 1, inplace = True)\n",
    "\n"
   ]
  },
  {
   "cell_type": "code",
   "execution_count": 33,
   "metadata": {
    "_uuid": "8f5cd07f6f12bec38603bf63667710c46eea382b"
   },
   "outputs": [],
   "source": [
    "# Create new matrix of features from test data\n",
    "X_test= test[['vendor_id', 'passenger_count', 'pickup_longitude',\n",
    "       'pickup_latitude', 'dropoff_longitude', 'dropoff_latitude',\n",
    "       'store_and_fwd_flag','pickup_month', 'pickup_hour',\n",
    "       'pickup_weekday', 'dist']]\n",
    "\n",
    "# Feed features into random forest\n",
    "test_pred= rf.predict(X_test)"
   ]
  },
  {
   "cell_type": "code",
   "execution_count": 34,
   "metadata": {
    "_uuid": "1795dba997b66c539b5f20c5f09a4cdbea9341a8"
   },
   "outputs": [],
   "source": [
    "submission = pd.DataFrame({'id':test['id'], 'trip_duration': test_pred})\n",
    "submission.to_csv('mySubmission.csv', index=False)\n"
   ]
  },
  {
   "cell_type": "markdown",
   "metadata": {
    "_uuid": "350af9e04b321895c6edf7cdeb47eb30e54b8506"
   },
   "source": []
  }
 ],
 "metadata": {
  "kernelspec": {
   "display_name": "Python 3",
   "language": "python",
   "name": "python3"
  },
  "language_info": {
   "codemirror_mode": {
    "name": "ipython",
    "version": 3
   },
   "file_extension": ".py",
   "mimetype": "text/x-python",
   "name": "python",
   "nbconvert_exporter": "python",
   "pygments_lexer": "ipython3",
   "version": "3.6.6"
  }
 },
 "nbformat": 4,
 "nbformat_minor": 1
}
